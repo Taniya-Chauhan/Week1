{
 "cells": [
  {
   "cell_type": "markdown",
   "id": "92d4db31-3bb5-4041-a0ed-998d18f56573",
   "metadata": {},
   "source": [
    "##                                              SolarSight"
   ]
  },
  {
   "cell_type": "code",
   "execution_count": null,
   "id": "ec225902",
   "metadata": {},
   "outputs": [],
   "source": []
  },
  {
   "cell_type": "markdown",
   "id": "fdb573c6-b2fe-4da4-bba1-d46233bc8586",
   "metadata": {},
   "source": [
    "### Problem Statement: \n",
    "Solar energy depends  a lot on whether conditions like sunlight , clouds, and temperature. Because these can change a lot, it's hard  to know exactly how much solar power will be produced at any time. This make it difficult for energy comapnies to plan and use solar energy efficiently .\n",
    "The goal is to create a that program uses whether data to predict how much solar energy will be generated . This will help in better planning , saving energy, and using solar power more effectively.\n"
   ]
  },
  {
   "cell_type": "markdown",
   "id": "cac36f05-da7f-494f-b1c0-833154301fb7",
   "metadata": {},
   "source": [
    "### Importing Required Libraries"
   ]
  },
  {
   "cell_type": "code",
   "execution_count": null,
   "id": "ac4640ff-6033-4cb0-96ea-763825192ef1",
   "metadata": {},
   "outputs": [],
   "source": [
    "import numpy as np # To perform numerical operations\n",
    "import pandas as pd # To do data manipulation and analysis\n",
    "import matplotlib.pyplot as plt # For data visualization\n",
    "import seaborn as sns # For advanced Data visualizations\n",
    "from sklearn.model_selection import train_test_split # For splitting dataset into training and testing set\n",
    "from sklearn.ensemble import RandomForestRegressor # Model Selection for Random Forest\n",
    "from sklearn.metrics import mean_absolute_error, mean_squared_error, r2_score # To Evaluate Model's Performance\n",
    "from datetime import datetime  # To handle time based features \n",
    "import warnings\n",
    "warnings.filterwarnings('ignore')"
   ]
  }
 ],
 "metadata": {
  "kernelspec": {
   "display_name": "venv",
   "language": "python",
   "name": "venv"
  },
  "language_info": {
   "codemirror_mode": {
    "name": "ipython",
    "version": 3
   },
   "file_extension": ".py",
   "mimetype": "text/x-python",
   "name": "python",
   "nbconvert_exporter": "python",
   "pygments_lexer": "ipython3",
   "version": "3.12.4"
  }
 },
 "nbformat": 4,
 "nbformat_minor": 5
}
