{
 "cells": [
  {
   "cell_type": "markdown",
   "id": "92d4db31-3bb5-4041-a0ed-998d18f56573",
   "metadata": {},
   "source": [
    "##                                              SolarSight"
   ]
  },
  {
   "cell_type": "code",
   "execution_count": null,
   "id": "ec225902",
   "metadata": {},
   "outputs": [],
   "source": []
  },
  {
   "cell_type": "markdown",
   "id": "fdb573c6-b2fe-4da4-bba1-d46233bc8586",
   "metadata": {},
   "source": [
    "### Problem Statement: \n",
    "Solar energy depends  a lot on whether conditions like sunlight , clouds, and temperature. Because these can change a lot, it's hard  to know exactly how much solar power will be produced at any time. This make it difficult for energy comapnies to plan and use solar energy efficiently .\n",
    "The goal is to create a that program uses whether data to predict how much solar energy will be generated . This will help in better planning , saving energy, and using solar power more effectively.\n"
   ]
  },
  {
   "cell_type": "markdown",
   "id": "cac36f05-da7f-494f-b1c0-833154301fb7",
   "metadata": {},
   "source": [
    "### Importing Required Libraries"
   ]
  },
  {
   "cell_type": "code",
   "execution_count": 1,
   "id": "ac4640ff-6033-4cb0-96ea-763825192ef1",
   "metadata": {},
   "outputs": [],
   "source": [
    "import numpy as np # To perform numerical operations\n",
    "import pandas as pd # To do data manipulation and analysis\n",
    "import matplotlib.pyplot as plt"
   ]
  },
  {
   "cell_type": "code",
   "execution_count": 2,
   "id": "4649bd60",
   "metadata": {},
   "outputs": [],
   "source": [
    "data = pd.read_csv(\"C:/Users/taniy/Downloads/Plant_1_Generation_Data.csv/Plant_1_Generation_Data.csv\")"
   ]
  },
  {
   "cell_type": "code",
   "execution_count": 3,
   "id": "a15867b3",
   "metadata": {},
   "outputs": [
    {
     "data": {
      "text/html": [
       "<div>\n",
       "<style scoped>\n",
       "    .dataframe tbody tr th:only-of-type {\n",
       "        vertical-align: middle;\n",
       "    }\n",
       "\n",
       "    .dataframe tbody tr th {\n",
       "        vertical-align: top;\n",
       "    }\n",
       "\n",
       "    .dataframe thead th {\n",
       "        text-align: right;\n",
       "    }\n",
       "</style>\n",
       "<table border=\"1\" class=\"dataframe\">\n",
       "  <thead>\n",
       "    <tr style=\"text-align: right;\">\n",
       "      <th></th>\n",
       "      <th>DATE_TIME</th>\n",
       "      <th>PLANT_ID</th>\n",
       "      <th>SOURCE_KEY</th>\n",
       "      <th>DC_POWER</th>\n",
       "      <th>AC_POWER</th>\n",
       "      <th>DAILY_YIELD</th>\n",
       "      <th>TOTAL_YIELD</th>\n",
       "    </tr>\n",
       "  </thead>\n",
       "  <tbody>\n",
       "    <tr>\n",
       "      <th>0</th>\n",
       "      <td>15-05-2020 00:00</td>\n",
       "      <td>4135001</td>\n",
       "      <td>1BY6WEcLGh8j5v7</td>\n",
       "      <td>0.0</td>\n",
       "      <td>0.0</td>\n",
       "      <td>0.000</td>\n",
       "      <td>6259559.0</td>\n",
       "    </tr>\n",
       "    <tr>\n",
       "      <th>1</th>\n",
       "      <td>15-05-2020 00:00</td>\n",
       "      <td>4135001</td>\n",
       "      <td>1IF53ai7Xc0U56Y</td>\n",
       "      <td>0.0</td>\n",
       "      <td>0.0</td>\n",
       "      <td>0.000</td>\n",
       "      <td>6183645.0</td>\n",
       "    </tr>\n",
       "    <tr>\n",
       "      <th>2</th>\n",
       "      <td>15-05-2020 00:00</td>\n",
       "      <td>4135001</td>\n",
       "      <td>3PZuoBAID5Wc2HD</td>\n",
       "      <td>0.0</td>\n",
       "      <td>0.0</td>\n",
       "      <td>0.000</td>\n",
       "      <td>6987759.0</td>\n",
       "    </tr>\n",
       "    <tr>\n",
       "      <th>3</th>\n",
       "      <td>15-05-2020 00:00</td>\n",
       "      <td>4135001</td>\n",
       "      <td>7JYdWkrLSPkdwr4</td>\n",
       "      <td>0.0</td>\n",
       "      <td>0.0</td>\n",
       "      <td>0.000</td>\n",
       "      <td>7602960.0</td>\n",
       "    </tr>\n",
       "    <tr>\n",
       "      <th>4</th>\n",
       "      <td>15-05-2020 00:00</td>\n",
       "      <td>4135001</td>\n",
       "      <td>McdE0feGgRqW7Ca</td>\n",
       "      <td>0.0</td>\n",
       "      <td>0.0</td>\n",
       "      <td>0.000</td>\n",
       "      <td>7158964.0</td>\n",
       "    </tr>\n",
       "    <tr>\n",
       "      <th>...</th>\n",
       "      <td>...</td>\n",
       "      <td>...</td>\n",
       "      <td>...</td>\n",
       "      <td>...</td>\n",
       "      <td>...</td>\n",
       "      <td>...</td>\n",
       "      <td>...</td>\n",
       "    </tr>\n",
       "    <tr>\n",
       "      <th>68773</th>\n",
       "      <td>17-06-2020 23:45</td>\n",
       "      <td>4135001</td>\n",
       "      <td>uHbuxQJl8lW7ozc</td>\n",
       "      <td>0.0</td>\n",
       "      <td>0.0</td>\n",
       "      <td>5967.000</td>\n",
       "      <td>7287002.0</td>\n",
       "    </tr>\n",
       "    <tr>\n",
       "      <th>68774</th>\n",
       "      <td>17-06-2020 23:45</td>\n",
       "      <td>4135001</td>\n",
       "      <td>wCURE6d3bPkepu2</td>\n",
       "      <td>0.0</td>\n",
       "      <td>0.0</td>\n",
       "      <td>5147.625</td>\n",
       "      <td>7028601.0</td>\n",
       "    </tr>\n",
       "    <tr>\n",
       "      <th>68775</th>\n",
       "      <td>17-06-2020 23:45</td>\n",
       "      <td>4135001</td>\n",
       "      <td>z9Y9gH1T5YWrNuG</td>\n",
       "      <td>0.0</td>\n",
       "      <td>0.0</td>\n",
       "      <td>5819.000</td>\n",
       "      <td>7251204.0</td>\n",
       "    </tr>\n",
       "    <tr>\n",
       "      <th>68776</th>\n",
       "      <td>17-06-2020 23:45</td>\n",
       "      <td>4135001</td>\n",
       "      <td>zBIq5rxdHJRwDNY</td>\n",
       "      <td>0.0</td>\n",
       "      <td>0.0</td>\n",
       "      <td>5817.000</td>\n",
       "      <td>6583369.0</td>\n",
       "    </tr>\n",
       "    <tr>\n",
       "      <th>68777</th>\n",
       "      <td>17-06-2020 23:45</td>\n",
       "      <td>4135001</td>\n",
       "      <td>zVJPv84UY57bAof</td>\n",
       "      <td>0.0</td>\n",
       "      <td>0.0</td>\n",
       "      <td>5910.000</td>\n",
       "      <td>7363272.0</td>\n",
       "    </tr>\n",
       "  </tbody>\n",
       "</table>\n",
       "<p>68778 rows × 7 columns</p>\n",
       "</div>"
      ],
      "text/plain": [
       "              DATE_TIME  PLANT_ID       SOURCE_KEY  DC_POWER  AC_POWER  \\\n",
       "0      15-05-2020 00:00   4135001  1BY6WEcLGh8j5v7       0.0       0.0   \n",
       "1      15-05-2020 00:00   4135001  1IF53ai7Xc0U56Y       0.0       0.0   \n",
       "2      15-05-2020 00:00   4135001  3PZuoBAID5Wc2HD       0.0       0.0   \n",
       "3      15-05-2020 00:00   4135001  7JYdWkrLSPkdwr4       0.0       0.0   \n",
       "4      15-05-2020 00:00   4135001  McdE0feGgRqW7Ca       0.0       0.0   \n",
       "...                 ...       ...              ...       ...       ...   \n",
       "68773  17-06-2020 23:45   4135001  uHbuxQJl8lW7ozc       0.0       0.0   \n",
       "68774  17-06-2020 23:45   4135001  wCURE6d3bPkepu2       0.0       0.0   \n",
       "68775  17-06-2020 23:45   4135001  z9Y9gH1T5YWrNuG       0.0       0.0   \n",
       "68776  17-06-2020 23:45   4135001  zBIq5rxdHJRwDNY       0.0       0.0   \n",
       "68777  17-06-2020 23:45   4135001  zVJPv84UY57bAof       0.0       0.0   \n",
       "\n",
       "       DAILY_YIELD  TOTAL_YIELD  \n",
       "0            0.000    6259559.0  \n",
       "1            0.000    6183645.0  \n",
       "2            0.000    6987759.0  \n",
       "3            0.000    7602960.0  \n",
       "4            0.000    7158964.0  \n",
       "...            ...          ...  \n",
       "68773     5967.000    7287002.0  \n",
       "68774     5147.625    7028601.0  \n",
       "68775     5819.000    7251204.0  \n",
       "68776     5817.000    6583369.0  \n",
       "68777     5910.000    7363272.0  \n",
       "\n",
       "[68778 rows x 7 columns]"
      ]
     },
     "execution_count": 3,
     "metadata": {},
     "output_type": "execute_result"
    }
   ],
   "source": [
    "data"
   ]
  },
  {
   "cell_type": "code",
   "execution_count": 4,
   "id": "bc3c2061",
   "metadata": {},
   "outputs": [
    {
     "data": {
      "text/html": [
       "<div>\n",
       "<style scoped>\n",
       "    .dataframe tbody tr th:only-of-type {\n",
       "        vertical-align: middle;\n",
       "    }\n",
       "\n",
       "    .dataframe tbody tr th {\n",
       "        vertical-align: top;\n",
       "    }\n",
       "\n",
       "    .dataframe thead th {\n",
       "        text-align: right;\n",
       "    }\n",
       "</style>\n",
       "<table border=\"1\" class=\"dataframe\">\n",
       "  <thead>\n",
       "    <tr style=\"text-align: right;\">\n",
       "      <th></th>\n",
       "      <th>DATE_TIME</th>\n",
       "      <th>PLANT_ID</th>\n",
       "      <th>SOURCE_KEY</th>\n",
       "      <th>DC_POWER</th>\n",
       "      <th>AC_POWER</th>\n",
       "      <th>DAILY_YIELD</th>\n",
       "      <th>TOTAL_YIELD</th>\n",
       "    </tr>\n",
       "  </thead>\n",
       "  <tbody>\n",
       "    <tr>\n",
       "      <th>0</th>\n",
       "      <td>15-05-2020 00:00</td>\n",
       "      <td>4135001</td>\n",
       "      <td>1BY6WEcLGh8j5v7</td>\n",
       "      <td>0.0</td>\n",
       "      <td>0.0</td>\n",
       "      <td>0.0</td>\n",
       "      <td>6259559.0</td>\n",
       "    </tr>\n",
       "    <tr>\n",
       "      <th>1</th>\n",
       "      <td>15-05-2020 00:00</td>\n",
       "      <td>4135001</td>\n",
       "      <td>1IF53ai7Xc0U56Y</td>\n",
       "      <td>0.0</td>\n",
       "      <td>0.0</td>\n",
       "      <td>0.0</td>\n",
       "      <td>6183645.0</td>\n",
       "    </tr>\n",
       "    <tr>\n",
       "      <th>2</th>\n",
       "      <td>15-05-2020 00:00</td>\n",
       "      <td>4135001</td>\n",
       "      <td>3PZuoBAID5Wc2HD</td>\n",
       "      <td>0.0</td>\n",
       "      <td>0.0</td>\n",
       "      <td>0.0</td>\n",
       "      <td>6987759.0</td>\n",
       "    </tr>\n",
       "    <tr>\n",
       "      <th>3</th>\n",
       "      <td>15-05-2020 00:00</td>\n",
       "      <td>4135001</td>\n",
       "      <td>7JYdWkrLSPkdwr4</td>\n",
       "      <td>0.0</td>\n",
       "      <td>0.0</td>\n",
       "      <td>0.0</td>\n",
       "      <td>7602960.0</td>\n",
       "    </tr>\n",
       "    <tr>\n",
       "      <th>4</th>\n",
       "      <td>15-05-2020 00:00</td>\n",
       "      <td>4135001</td>\n",
       "      <td>McdE0feGgRqW7Ca</td>\n",
       "      <td>0.0</td>\n",
       "      <td>0.0</td>\n",
       "      <td>0.0</td>\n",
       "      <td>7158964.0</td>\n",
       "    </tr>\n",
       "  </tbody>\n",
       "</table>\n",
       "</div>"
      ],
      "text/plain": [
       "          DATE_TIME  PLANT_ID       SOURCE_KEY  DC_POWER  AC_POWER  \\\n",
       "0  15-05-2020 00:00   4135001  1BY6WEcLGh8j5v7       0.0       0.0   \n",
       "1  15-05-2020 00:00   4135001  1IF53ai7Xc0U56Y       0.0       0.0   \n",
       "2  15-05-2020 00:00   4135001  3PZuoBAID5Wc2HD       0.0       0.0   \n",
       "3  15-05-2020 00:00   4135001  7JYdWkrLSPkdwr4       0.0       0.0   \n",
       "4  15-05-2020 00:00   4135001  McdE0feGgRqW7Ca       0.0       0.0   \n",
       "\n",
       "   DAILY_YIELD  TOTAL_YIELD  \n",
       "0          0.0    6259559.0  \n",
       "1          0.0    6183645.0  \n",
       "2          0.0    6987759.0  \n",
       "3          0.0    7602960.0  \n",
       "4          0.0    7158964.0  "
      ]
     },
     "execution_count": 4,
     "metadata": {},
     "output_type": "execute_result"
    }
   ],
   "source": [
    "data.head()"
   ]
  },
  {
   "cell_type": "code",
   "execution_count": 5,
   "id": "abace0fa",
   "metadata": {},
   "outputs": [
    {
     "data": {
      "text/html": [
       "<div>\n",
       "<style scoped>\n",
       "    .dataframe tbody tr th:only-of-type {\n",
       "        vertical-align: middle;\n",
       "    }\n",
       "\n",
       "    .dataframe tbody tr th {\n",
       "        vertical-align: top;\n",
       "    }\n",
       "\n",
       "    .dataframe thead th {\n",
       "        text-align: right;\n",
       "    }\n",
       "</style>\n",
       "<table border=\"1\" class=\"dataframe\">\n",
       "  <thead>\n",
       "    <tr style=\"text-align: right;\">\n",
       "      <th></th>\n",
       "      <th>DATE_TIME</th>\n",
       "      <th>PLANT_ID</th>\n",
       "      <th>SOURCE_KEY</th>\n",
       "      <th>DC_POWER</th>\n",
       "      <th>AC_POWER</th>\n",
       "      <th>DAILY_YIELD</th>\n",
       "      <th>TOTAL_YIELD</th>\n",
       "    </tr>\n",
       "  </thead>\n",
       "  <tbody>\n",
       "    <tr>\n",
       "      <th>68773</th>\n",
       "      <td>17-06-2020 23:45</td>\n",
       "      <td>4135001</td>\n",
       "      <td>uHbuxQJl8lW7ozc</td>\n",
       "      <td>0.0</td>\n",
       "      <td>0.0</td>\n",
       "      <td>5967.000</td>\n",
       "      <td>7287002.0</td>\n",
       "    </tr>\n",
       "    <tr>\n",
       "      <th>68774</th>\n",
       "      <td>17-06-2020 23:45</td>\n",
       "      <td>4135001</td>\n",
       "      <td>wCURE6d3bPkepu2</td>\n",
       "      <td>0.0</td>\n",
       "      <td>0.0</td>\n",
       "      <td>5147.625</td>\n",
       "      <td>7028601.0</td>\n",
       "    </tr>\n",
       "    <tr>\n",
       "      <th>68775</th>\n",
       "      <td>17-06-2020 23:45</td>\n",
       "      <td>4135001</td>\n",
       "      <td>z9Y9gH1T5YWrNuG</td>\n",
       "      <td>0.0</td>\n",
       "      <td>0.0</td>\n",
       "      <td>5819.000</td>\n",
       "      <td>7251204.0</td>\n",
       "    </tr>\n",
       "    <tr>\n",
       "      <th>68776</th>\n",
       "      <td>17-06-2020 23:45</td>\n",
       "      <td>4135001</td>\n",
       "      <td>zBIq5rxdHJRwDNY</td>\n",
       "      <td>0.0</td>\n",
       "      <td>0.0</td>\n",
       "      <td>5817.000</td>\n",
       "      <td>6583369.0</td>\n",
       "    </tr>\n",
       "    <tr>\n",
       "      <th>68777</th>\n",
       "      <td>17-06-2020 23:45</td>\n",
       "      <td>4135001</td>\n",
       "      <td>zVJPv84UY57bAof</td>\n",
       "      <td>0.0</td>\n",
       "      <td>0.0</td>\n",
       "      <td>5910.000</td>\n",
       "      <td>7363272.0</td>\n",
       "    </tr>\n",
       "  </tbody>\n",
       "</table>\n",
       "</div>"
      ],
      "text/plain": [
       "              DATE_TIME  PLANT_ID       SOURCE_KEY  DC_POWER  AC_POWER  \\\n",
       "68773  17-06-2020 23:45   4135001  uHbuxQJl8lW7ozc       0.0       0.0   \n",
       "68774  17-06-2020 23:45   4135001  wCURE6d3bPkepu2       0.0       0.0   \n",
       "68775  17-06-2020 23:45   4135001  z9Y9gH1T5YWrNuG       0.0       0.0   \n",
       "68776  17-06-2020 23:45   4135001  zBIq5rxdHJRwDNY       0.0       0.0   \n",
       "68777  17-06-2020 23:45   4135001  zVJPv84UY57bAof       0.0       0.0   \n",
       "\n",
       "       DAILY_YIELD  TOTAL_YIELD  \n",
       "68773     5967.000    7287002.0  \n",
       "68774     5147.625    7028601.0  \n",
       "68775     5819.000    7251204.0  \n",
       "68776     5817.000    6583369.0  \n",
       "68777     5910.000    7363272.0  "
      ]
     },
     "execution_count": 5,
     "metadata": {},
     "output_type": "execute_result"
    }
   ],
   "source": [
    "data.tail()"
   ]
  },
  {
   "cell_type": "code",
   "execution_count": 5,
   "id": "2bc9e550",
   "metadata": {},
   "outputs": [
    {
     "data": {
      "text/plain": [
       "(array([    0.,     0.,     0.,     0.,     0., 68778.,     0.,     0.,\n",
       "            0.,     0.]),\n",
       " array([4135000.5, 4135000.6, 4135000.7, 4135000.8, 4135000.9, 4135001. ,\n",
       "        4135001.1, 4135001.2, 4135001.3, 4135001.4, 4135001.5]),\n",
       " <BarContainer object of 10 artists>)"
      ]
     },
     "execution_count": 5,
     "metadata": {},
     "output_type": "execute_result"
    },
    {
     "data": {
      "image/png": "[encoded data removed]",
      "text/plain": [
       "<Figure size 640x480 with 1 Axes>"
      ]
     },
     "metadata": {},
     "output_type": "display_data"
    }
   ],
   "source": [
    "plt.hist(data['PLANT_ID'])"
   ]
  },
  {
   "cell_type": "code",
   "execution_count": 7,
   "id": "daf0e167",
   "metadata": {},
   "outputs": [
    {
     "data": {
      "text/plain": [
       "(array([    0.,     0.,     0.,     0.,     0.,     0.,     0.,     0.,\n",
       "            0.,     0.,     0.,     0.,     0.,     0.,     0.,     0.,\n",
       "            0.,     0.,     0.,     0.,     0.,     0.,     0.,     0.,\n",
       "            0., 68778.,     0.,     0.,     0.,     0.,     0.,     0.,\n",
       "            0.,     0.,     0.,     0.,     0.,     0.,     0.,     0.,\n",
       "            0.,     0.,     0.,     0.,     0.,     0.,     0.,     0.,\n",
       "            0.,     0.]),\n",
       " array([4135000.5 , 4135000.52, 4135000.54, 4135000.56, 4135000.58,\n",
       "        4135000.6 , 4135000.62, 4135000.64, 4135000.66, 4135000.68,\n",
       "        4135000.7 , 4135000.72, 4135000.74, 4135000.76, 4135000.78,\n",
       "        4135000.8 , 4135000.82, 4135000.84, 4135000.86, 4135000.88,\n",
       "        4135000.9 , 4135000.92, 4135000.94, 4135000.96, 4135000.98,\n",
       "        4135001.  , 4135001.02, 4135001.04, 4135001.06, 4135001.08,\n",
       "        4135001.1 , 4135001.12, 4135001.14, 4135001.16, 4135001.18,\n",
       "        4135001.2 , 4135001.22, 4135001.24, 4135001.26, 4135001.28,\n",
       "        4135001.3 , 4135001.32, 4135001.34, 4135001.36, 4135001.38,\n",
       "        4135001.4 , 4135001.42, 4135001.44, 4135001.46, 4135001.48,\n",
       "        4135001.5 ]),\n",
       " <BarContainer object of 50 artists>)"
      ]
     },
     "execution_count": 7,
     "metadata": {},
     "output_type": "execute_result"
    },
    {
     "data": {
      "image/png": "[encoded data removed]",
      "text/plain": [
       "<Figure size 640x480 with 1 Axes>"
      ]
     },
     "metadata": {},
     "output_type": "display_data"
    }
   ],
   "source": [
    "plt.hist(data[\"PLANT_ID\"]  , bins=50,color=\"Green\")"
   ]
  },
  {
   "cell_type": "code",
   "execution_count": 8,
   "id": "e0302570",
   "metadata": {},
   "outputs": [
    {
     "data": {
      "image/png": "[encoded data removed]",
      "text/plain": [
       "<Figure size 640x480 with 1 Axes>"
      ]
     },
     "metadata": {},
     "output_type": "display_data"
    }
   ],
   "source": [
    "plt.xlabel(\"PLANT_ID\")\n",
    "plt.ylabel(\"SOURCE_KEY\")\n",
    "plt.title(\"Histogram\")\n",
    "plt.show()"
   ]
  },
  {
   "cell_type": "code",
   "execution_count": 11,
   "id": "ebf0b161",
   "metadata": {},
   "outputs": [
    {
     "data": {
      "text/plain": [
       "{'whiskers': [<matplotlib.lines.Line2D at 0x1c60ddd47d0>,\n",
       "  <matplotlib.lines.Line2D at 0x1c60ddd4910>],\n",
       " 'caps': [<matplotlib.lines.Line2D at 0x1c60ddd4a50>,\n",
       "  <matplotlib.lines.Line2D at 0x1c60ddd4b90>],\n",
       " 'boxes': [<matplotlib.lines.Line2D at 0x1c60ddd4690>],\n",
       " 'medians': [<matplotlib.lines.Line2D at 0x1c60ddd4cd0>],\n",
       " 'fliers': [<matplotlib.lines.Line2D at 0x1c60ddd4e10>],\n",
       " 'means': []}"
      ]
     },
     "execution_count": 11,
     "metadata": {},
     "output_type": "execute_result"
    },
    {
     "data": {
      "image/png": "[encoded data removed]",
      "text/plain": [
       "<Figure size 640x480 with 1 Axes>"
      ]
     },
     "metadata": {},
     "output_type": "display_data"
    }
   ],
   "source": [
    "plt.boxplot(data[\"PLANT_ID\"])\n"
   ]
  },
  {
   "cell_type": "code",
   "execution_count": null,
   "id": "21cb780d",
   "metadata": {},
   "outputs": [
    {
     "data": {
      "text/plain": [
       "<matplotlib.collections.PathCollection at 0x1c63f4b4830>"
      ]
     },
     "execution_count": 13,
     "metadata": {},
     "output_type": "execute_result"
    },
    {
     "data": {
      "image/png": "[encoded data removed]",
      "text/plain": [
       "<Figure size 640x480 with 1 Axes>"
      ]
     },
     "metadata": {},
     "output_type": "display_data"
    }
   ],
   "source": [
    "plt.scatter(data[\"PLANT_ID\"], data[\"SOURCE_KEY\"])"
   ]
  },
  {
   "cell_type": "code",
   "execution_count": 17,
   "id": "9c4d712c",
   "metadata": {},
   "outputs": [],
   "source": [
    "from sklearn.model_selection import train_test_split\n",
    "from sklearn.linear_model import LinearRegression\n",
    "from sklearn.ensemble import RandomForestRegressor\n",
    "from sklearn.metrics import mean_absolute_error, r2_score"
   ]
  },
  {
   "cell_type": "code",
   "execution_count": 18,
   "id": "978a0923",
   "metadata": {},
   "outputs": [],
   "source": [
    "X = data.drop(\"PLANT_ID\", axis=1)\n",
    "\n",
    "\n",
    "y = data[\"PLANT_ID\"]"
   ]
  },
  {
   "cell_type": "code",
   "execution_count": 19,
   "id": "ef4d803a",
   "metadata": {},
   "outputs": [],
   "source": [
    "X_train, X_test, y_train, y_test = train_test_split(\n",
    "    X, y, test_size=0.2, random_state=42\n",
    ")"
   ]
  },
  {
   "cell_type": "code",
   "execution_count": 21,
   "id": "2b541095",
   "metadata": {},
   "outputs": [],
   "source": [
    "X = pd.get_dummies(X, drop_first=True)\n",
    "X = X.fillna(X.mean())\n",
    "y = y.fillna(y.mean())"
   ]
  },
  {
   "cell_type": "code",
   "execution_count": 26,
   "id": "9c5bc9db",
   "metadata": {},
   "outputs": [
    {
     "name": "stdout",
     "output_type": "stream",
     "text": [
      "DATE_TIME       object\n",
      "SOURCE_KEY      object\n",
      "DC_POWER       float64\n",
      "AC_POWER       float64\n",
      "DAILY_YIELD    float64\n",
      "TOTAL_YIELD    float64\n",
      "dtype: object\n"
     ]
    }
   ],
   "source": [
    "print(X_train.dtypes)"
   ]
  },
  {
   "cell_type": "code",
   "execution_count": 29,
   "id": "252856b9",
   "metadata": {},
   "outputs": [],
   "source": [
    "data[\"DATE_TIME\"] = pd.to_datetime(data[\"DATE_TIME\"], format=\"%d-%m-%Y %H:%M\", errors=\"coerce\")\n",
    "\n",
    "# Extract features\n",
    "data[\"day\"] = data[\"DATE_TIME\"].dt.day\n",
    "data[\"month\"] = data[\"DATE_TIME\"].dt.month\n",
    "data[\"hour\"] = data[\"DATE_TIME\"].dt.hour\n",
    "\n",
    "# Drop original DATE_TIME column\n",
    "data = data.drop(\"DATE_TIME\", axis=1)"
   ]
  },
  {
   "cell_type": "code",
   "execution_count": 31,
   "id": "a3c2e074",
   "metadata": {},
   "outputs": [],
   "source": [
    "data = pd.get_dummies(data, columns=[\"SOURCE_KEY\"], drop_first=True)\n",
    "\n",
    "# Define features & target (example: predict DC_POWER)\n",
    "X = data.drop(\"DC_POWER\", axis=1)\n",
    "y = data[\"DC_POWER\"]"
   ]
  },
  {
   "cell_type": "code",
   "execution_count": 33,
   "id": "7bdbc90c",
   "metadata": {},
   "outputs": [
    {
     "name": "stdout",
     "output_type": "stream",
     "text": [
      "Linear Regression R²: 0.999986183676715\n",
      "Random Forest R²: 0.9999912272555755\n"
     ]
    }
   ],
   "source": [
    "X_train, X_test, y_train, y_test = train_test_split(X, y, test_size=0.2, random_state=42)\n",
    "\n",
    "# Linear Regression\n",
    "lr_model = LinearRegression()\n",
    "lr_model.fit(X_train, y_train)\n",
    "y_pred_lr = lr_model.predict(X_test)\n",
    "\n",
    "# Random Forest\n",
    "rf_model = RandomForestRegressor(n_estimators=100, random_state=42)\n",
    "rf_model.fit(X_train, y_train)\n",
    "y_pred_rf = rf_model.predict(X_test)\n",
    "\n",
    "# Evaluate\n",
    "print(\"Linear Regression R²:\", r2_score(y_test, y_pred_lr))\n",
    "print(\"Random Forest R²:\", r2_score(y_test, y_pred_rf))\n"
   ]
  }
 ],
 "metadata": {
  "kernelspec": {
   "display_name": "Python 3",
   "language": "python",
   "name": "python3"
  },
  "language_info": {
   "codemirror_mode": {
    "name": "ipython",
    "version": 3
   },
   "file_extension": ".py",
   "mimetype": "text/x-python",
   "name": "python",
   "nbconvert_exporter": "python",
   "pygments_lexer": "ipython3",
   "version": "3.13.3"
  }
 },
 "nbformat": 4,
 "nbformat_minor": 5
}
